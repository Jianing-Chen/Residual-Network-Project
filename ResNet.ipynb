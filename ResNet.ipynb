{
  "cells": [
    {
      "cell_type": "code",
      "execution_count": 1,
      "metadata": {
        "id": "DqjmlixNCMlZ"
      },
      "outputs": [],
      "source": [
        "import numpy as np\n",
        "import torch\n",
        "import torch.nn as nn \n",
        "import torch.nn.functional as F\n",
        "import torchvision\n",
        "import torchvision.transforms as transforms"
      ]
    },
    {
      "cell_type": "code",
      "execution_count": 2,
      "metadata": {
        "id": "Ze3HNZxzHIi2"
      },
      "outputs": [],
      "source": [
        "def set_seed(seed = 16):\n",
        "    np.random.seed(seed)\n",
        "    torch.manual_seed(seed)"
      ]
    },
    {
      "cell_type": "code",
      "execution_count": 3,
      "metadata": {
        "id": "HLHQGbHHTP6w"
      },
      "outputs": [],
      "source": [
        "\"\"\"\n",
        "Cutout is used from https://github.com/uoguelph-mlrg/Cutout\n",
        "\"\"\"\n",
        "class Cutout(object):\n",
        "    \"\"\"Randomly mask out one or more patches from an image.\n",
        "\n",
        "    Args:\n",
        "        n_holes (int): Number of patches to cut out of each image.\n",
        "        length (int): The length (in pixels) of each square patch.\n",
        "    \"\"\"\n",
        "    def __init__(self, n_holes, length):\n",
        "        self.n_holes = n_holes\n",
        "        self.length = length\n",
        "\n",
        "    def __call__(self, img):\n",
        "        \"\"\"\n",
        "        Args:\n",
        "            img (Tensor): Tensor image of size (C, H, W).\n",
        "        Returns:\n",
        "            Tensor: Image with n_holes of dimension length x length cut out of it.\n",
        "        \"\"\"\n",
        "        h = img.size(1)\n",
        "        w = img.size(2)\n",
        "\n",
        "        mask = np.ones((h, w), np.float32)\n",
        "\n",
        "        for n in range(self.n_holes):\n",
        "            y = np.random.randint(h)\n",
        "            x = np.random.randint(w)\n",
        "\n",
        "            y1 = np.clip(y - self.length // 2, 0, h)\n",
        "            y2 = np.clip(y + self.length // 2, 0, h)\n",
        "            x1 = np.clip(x - self.length // 2, 0, w)\n",
        "            x2 = np.clip(x + self.length // 2, 0, w)\n",
        "\n",
        "            mask[y1: y2, x1: x2] = 0.\n",
        "\n",
        "        mask = torch.from_numpy(mask)\n",
        "        mask = mask.expand_as(img)\n",
        "        img = img * mask\n",
        "\n",
        "        return img"
      ]
    },
    {
      "cell_type": "code",
      "execution_count": 4,
      "metadata": {
        "id": "A3bJWKcgxc3J"
      },
      "outputs": [],
      "source": [
        "# Original image\n",
        "normalize =  transforms.Normalize(mean=[x / 255.0 for x in [125.3, 123.0, 113.9]],std=[x / 255.0 for x in [63.0, 62.1, 66.7]])\n",
        "t0 = transforms.Compose([\n",
        "                         transforms.ToTensor(),\n",
        "                         transforms.Normalize((0.4914, 0.4822, 0.4465), (0.2471, 0.2435, 0.2616)),\n",
        "])\n",
        "# Crop \n",
        "t1 = transforms.Compose([\n",
        "                         transforms.RandomResizedCrop(32,(0.8,1.0)),\n",
        "                         transforms.ToTensor(),\n",
        "                        \n",
        "])\n",
        "# Vertical flip\n",
        "t2 = transforms.Compose([\n",
        "                         transforms.RandomVerticalFlip(),\n",
        "                         transforms.ToTensor(),\n",
        "                    \n",
        "                         \n",
        "])\n",
        "# Horizontal flip\n",
        "t3 = transforms.Compose([\n",
        "                         transforms.RandomHorizontalFlip(),\n",
        "                         transforms.ToTensor(),\n",
        "                        \n",
        "])\n",
        "# Distort\n",
        "t4 = transforms.Compose([\n",
        "                         transforms.ColorJitter(3),\n",
        "                         transforms.ToTensor(),\n",
        "                   \n",
        "])\n",
        "# Rotate\n",
        "t5 = transforms.Compose([\n",
        "                         transforms.RandomRotation(270),\n",
        "                         transforms.ToTensor(),\n",
        "                      \n",
        "])\n",
        "# Cutout\n",
        "t6 = transforms.Compose([\n",
        "                         transforms.ToTensor(),\n",
        "                         Cutout(n_holes=1, length=16),\n",
        "                         \n",
        "])\n",
        "#GaussianBlur\n",
        "t7 = transforms.Compose([\n",
        "                         transforms.GaussianBlur(3),\n",
        "                         transforms.ToTensor(),\n",
        "                      \n",
        "])\n",
        "t136 = transforms.Compose([\n",
        "                           transforms.RandomResizedCrop(32,(0.8,1.0)),\n",
        "                           transforms.RandomHorizontalFlip(),\n",
        "                           transforms.ToTensor(),\n",
        "                           Cutout(n_holes=1, length=16),\n",
        "                           transforms.Normalize((0.4914, 0.4822, 0.4465), (0.2471, 0.2435, 0.2616)),\n",
        "])"
      ]
    },
    {
      "cell_type": "code",
      "execution_count": 5,
      "metadata": {
        "colab": {
          "base_uri": "https://localhost:8080/",
          "height": 101,
          "referenced_widgets": [
            "0ee59a190f2d4dd5b82529366642e788",
            "8b5440a1b6b3408cbcd5ced32b5deb5e",
            "a424066cf1a544aba922b770ad557ef3",
            "434304c578e646dd9eab121a4b20fa18",
            "bcfdd9d77b804b349da336df60446b96",
            "4b01dfc3111445d7b61996ddd6a3f788",
            "009fe366c79d4434a2b07b664f6c59be",
            "664f77962f12455ab37fac127cf73061",
            "85ebbbcde30e45f687daf7c926016ffd",
            "2cdc73ab59bb4ed7850456476d036d8c",
            "513074880d0c4df48e33ad30eb6fb314"
          ]
        },
        "id": "0YtU_eAbXV9P",
        "outputId": "ae39a4ec-47ae-4f82-ca3c-e793001b163d"
      },
      "outputs": [
        {
          "output_type": "stream",
          "name": "stdout",
          "text": [
            "Downloading https://www.cs.toronto.edu/~kriz/cifar-10-python.tar.gz to ./CIFAR-10/cifar-10-python.tar.gz\n"
          ]
        },
        {
          "output_type": "display_data",
          "data": {
            "text/plain": [
              "  0%|          | 0/170498071 [00:00<?, ?it/s]"
            ],
            "application/vnd.jupyter.widget-view+json": {
              "version_major": 2,
              "version_minor": 0,
              "model_id": "0ee59a190f2d4dd5b82529366642e788"
            }
          },
          "metadata": {}
        },
        {
          "output_type": "stream",
          "name": "stdout",
          "text": [
            "Extracting ./CIFAR-10/cifar-10-python.tar.gz to ./CIFAR-10/\n",
            "Files already downloaded and verified\n"
          ]
        }
      ],
      "source": [
        "trainingdata = torchvision.datasets.CIFAR10('./CIFAR-10/',train=True,download=True,transform=t136)\n",
        "testdata = torchvision.datasets.CIFAR10('./CIFAR-10/',train=False,download=True,transform=t0)"
      ]
    },
    {
      "cell_type": "code",
      "execution_count": 6,
      "metadata": {
        "colab": {
          "base_uri": "https://localhost:8080/"
        },
        "id": "HGpkNdXDC0MW",
        "outputId": "47ef355f-3e76-4612-cda0-cde512e451ab"
      },
      "outputs": [
        {
          "output_type": "stream",
          "name": "stdout",
          "text": [
            "50000\n",
            "10000\n"
          ]
        }
      ],
      "source": [
        "print(len(trainingdata))\n",
        "print(len(testdata))"
      ]
    },
    {
      "cell_type": "code",
      "execution_count": 7,
      "metadata": {
        "colab": {
          "base_uri": "https://localhost:8080/"
        },
        "id": "ESuk-dMuDI50",
        "outputId": "832cd074-9fd3-4275-d5e7-f36a46186b1e"
      },
      "outputs": [
        {
          "output_type": "stream",
          "name": "stdout",
          "text": [
            "torch.Size([3, 32, 32]) 6\n"
          ]
        }
      ],
      "source": [
        "image, label = trainingdata[0]\n",
        "print(image.shape, label)"
      ]
    },
    {
      "cell_type": "code",
      "execution_count": 8,
      "metadata": {
        "colab": {
          "base_uri": "https://localhost:8080/",
          "height": 283
        },
        "id": "VFwxybfdDdJm",
        "outputId": "a1d6d3a9-13d7-4265-bedc-23353b460a7f"
      },
      "outputs": [
        {
          "output_type": "stream",
          "name": "stderr",
          "text": [
            "Clipping input data to the valid range for imshow with RGB data ([0..1] for floats or [0..255] for integers).\n"
          ]
        },
        {
          "output_type": "display_data",
          "data": {
            "text/plain": [
              "<Figure size 432x288 with 1 Axes>"
            ],
            "image/png": "[encoded data removed]"
          },
          "metadata": {
            "needs_background": "light"
          }
        }
      ],
      "source": [
        "import matplotlib.pyplot as plt\n",
        "%matplotlib inline\n",
        "plt.imshow(image.permute((1, 2, 0)))\n",
        "plt.show()"
      ]
    },
    {
      "cell_type": "code",
      "execution_count": 9,
      "metadata": {
        "id": "hnES23k0EN4_"
      },
      "outputs": [],
      "source": [
        "trainDataLoader = torch.utils.data.DataLoader(trainingdata,batch_size=64,shuffle=True)\n",
        "testDataLoader = torch.utils.data.DataLoader(testdata,batch_size=64,shuffle=False)"
      ]
    },
    {
      "cell_type": "code",
      "execution_count": 10,
      "metadata": {
        "colab": {
          "base_uri": "https://localhost:8080/",
          "height": 234
        },
        "id": "aQkgEdydEoHH",
        "outputId": "765235be-3c4f-495a-b981-d94d0e6a46bd"
      },
      "outputs": [
        {
          "output_type": "stream",
          "name": "stderr",
          "text": [
            "Clipping input data to the valid range for imshow with RGB data ([0..1] for floats or [0..255] for integers).\n",
            "Clipping input data to the valid range for imshow with RGB data ([0..1] for floats or [0..255] for integers).\n",
            "Clipping input data to the valid range for imshow with RGB data ([0..1] for floats or [0..255] for integers).\n",
            "Clipping input data to the valid range for imshow with RGB data ([0..1] for floats or [0..255] for integers).\n",
            "Clipping input data to the valid range for imshow with RGB data ([0..1] for floats or [0..255] for integers).\n"
          ]
        },
        {
          "output_type": "display_data",
          "data": {
            "text/plain": [
              "<Figure size 720x288 with 5 Axes>"
            ],
            "image/png": "[encoded data removed]"
          },
          "metadata": {
            "needs_background": "light"
          }
        }
      ],
      "source": [
        "images, labels = iter(trainDataLoader).next()\n",
        "plt.figure(figsize=(10,4))\n",
        "for index in np.arange(0,5):\n",
        "  plt.subplot(1,5,index+1)\n",
        "  plt.imshow(images[index].permute((1, 2, 0)))"
      ]
    },
    {
      "cell_type": "code",
      "execution_count": 12,
      "metadata": {
        "id": "fJy4Ow0WJ6Te"
      },
      "outputs": [],
      "source": [
        "# Model architecture\n",
        "class BasicBlock(torch.nn.Module):\n",
        "  expansion = 1\n",
        "\n",
        "  def __init__(self, in_planes,planes, stride = 1):\n",
        "    super(BasicBlock, self).__init__()\n",
        "    self.conv1 = nn.Conv2d(in_planes, planes, kernel_size=3, stride=stride, padding = 1, bias = False)\n",
        "    self.bn1 = nn.BatchNorm2d(planes)\n",
        "    self.conv2 = nn.Conv2d(planes, planes, kernel_size = 3, stride = 1, padding = 1, bias = False)\n",
        "    self.bn2 = nn.BatchNorm2d(planes)\n",
        "\n",
        "    self.shortcut = nn.Sequential()\n",
        "    if (stride != 1 or in_planes != self.expansion*planes):\n",
        "      self.shortcut = nn.Sequential(nn.Conv2d(in_planes,self.expansion*planes,kernel_size=1,stride=stride,bias=False),\n",
        "                                    nn.BatchNorm2d(self.expansion*planes)\n",
        "                                    )\n",
        "\n",
        "  def forward(self, x):\n",
        "    out = F.relu(self.bn1(self.conv1(x)))\n",
        "    out = self.bn2(self.conv2(out))\n",
        "    out += self.shortcut(x)\n",
        "    out = F.relu(out)\n",
        "    return out\n",
        "\n",
        "class ResNet(nn.Module):\n",
        "  def __init__(self,block,num_blocks, num_classes = 10):\n",
        "    super(ResNet, self).__init__()\n",
        "    self.in_planes = 32\n",
        "    self.conv1 = nn.Conv2d(3,32,kernel_size=3,stride = 1, padding = 1, bias = False)\n",
        "    self.bn1 = nn.BatchNorm2d(32)\n",
        "    self.layer1 = self._make_layer(block, 32, num_blocks[0], stride = 1)\n",
        "    self.layer2 = self._make_layer(block, 64, num_blocks[1], stride = 2)\n",
        "    self.layer3 = self._make_layer(block, 128, num_blocks[2], stride = 2)\n",
        "    self.layer4 = self._make_layer(block, 256, num_blocks[3], stride = 2)\n",
        "    self.linear = nn.Linear(256*block.expansion,num_classes)\n",
        "\n",
        "\n",
        "  def _make_layer(self, block, planes, num_blocks, stride):\n",
        "    strides = [stride] + [1]*(num_blocks-1)\n",
        "    layers = []\n",
        "    for stride in strides:\n",
        "      layers.append(block(self.in_planes,planes,stride))\n",
        "      self.in_planes = planes * block.expansion\n",
        "    return nn.Sequential(*layers)\n",
        "  \n",
        "  def forward(self, x):\n",
        "    out = F.relu(self.bn1(self.conv1(x)))\n",
        "    out = self.layer1(out)\n",
        "    out = self.layer2(out)\n",
        "    out = self.layer3(out)\n",
        "    out = self.layer4(out)\n",
        "    out = F.avg_pool2d(out,4)\n",
        "    out = out.view(out.size(0), -1)\n",
        "    out = self.linear(out)\n",
        "    return out\n",
        "\n",
        "ResNet18 = ResNet(BasicBlock,[3,3,3,3]).cuda()\n",
        "Loss = torch.nn.CrossEntropyLoss()\n",
        "#optimizer = torch.optim.Adam(ResNet18.parameters(), lr=0.01, betas=(0.9, 0.999), eps=1e-08)\n",
        "optimizer = torch.optim.SGD(ResNet18.parameters(), lr=0.05, momentum=0.9)\n",
        "scheduler = torch.optim.lr_scheduler.CosineAnnealingLR(optimizer, T_max = 200)\n",
        "start_epoch = 0\n",
        "best_acc = 0\n"
      ]
    },
    {
      "cell_type": "code",
      "execution_count": 13,
      "metadata": {
        "colab": {
          "base_uri": "https://localhost:8080/"
        },
        "id": "_Hhj484D0Kdf",
        "outputId": "8f7ea156-589d-415f-c096-021bebc353b5"
      },
      "outputs": [
        {
          "output_type": "stream",
          "name": "stdout",
          "text": [
            "4366250\n"
          ]
        }
      ],
      "source": [
        "def count_parameters(model):\n",
        "    return sum(p.numel() for p in model.parameters() if p.requires_grad)\n",
        "\n",
        "print(count_parameters(ResNet18))"
      ]
    },
    {
      "cell_type": "code",
      "source": [
        "print(count_parameters(ResNet18))"
      ],
      "metadata": {
        "colab": {
          "base_uri": "https://localhost:8080/"
        },
        "id": "s-b5s8ekjiFE",
        "outputId": "eb66a69a-b4f8-4e19-c55e-3b1a025b833b"
      },
      "execution_count": 14,
      "outputs": [
        {
          "output_type": "stream",
          "name": "stdout",
          "text": [
            "4366250\n"
          ]
        }
      ]
    },
    {
      "cell_type": "code",
      "execution_count": 15,
      "metadata": {
        "id": "Dfhl3EvMbA6K"
      },
      "outputs": [],
      "source": [
        "train_loss_history = []\n",
        "train_accuracy_history = []\n",
        "test_loss_history = []\n",
        "test_accuracy_history = []"
      ]
    },
    {
      "cell_type": "code",
      "execution_count": 16,
      "metadata": {
        "id": "M7uJydfJKNf1"
      },
      "outputs": [],
      "source": [
        "def train(epoch):\n",
        "  print('\\nEpoch: %d' %epoch)\n",
        "  ResNet18.train()\n",
        "  train_loss = 0\n",
        "  correct = 0\n",
        "  total = 0\n",
        "  for idx, (images,labels) in enumerate(trainDataLoader):\n",
        "    images = images.cuda()\n",
        "    labels = labels.cuda()\n",
        "    optimizer.zero_grad()\n",
        "    outputs = ResNet18(images)\n",
        "    loss = Loss(outputs,labels)\n",
        "    loss.backward()\n",
        "    optimizer.step()\n",
        "\n",
        "    train_loss += loss.item()\n",
        "    _, predict = outputs.max(1)\n",
        "    total += labels.size(0)\n",
        "    correct += predict.eq(labels).sum().item()\n",
        "  print('Train loss: {:.2f}, Train accuracy:{:.2f} %'.format(train_loss/len(trainDataLoader),correct/total*100))\n",
        "  train_loss_history.append(train_loss/len(trainDataLoader))\n",
        "  train_accuracy_history.append(correct/total*100)"
      ]
    },
    {
      "cell_type": "code",
      "execution_count": 17,
      "metadata": {
        "id": "7M_KXTR-9qI_"
      },
      "outputs": [],
      "source": [
        "def test(epoch):\n",
        "  ResNet18.eval()\n",
        "  global best_acc\n",
        "  test_loss = 0\n",
        "  correct = 0\n",
        "  total = 0\n",
        "  with torch.no_grad():\n",
        "    for idx, (images,labels) in enumerate(testDataLoader):\n",
        "      images = images.cuda()\n",
        "      labels = labels.cuda()\n",
        "      outputs = ResNet18(images)\n",
        "      loss = Loss(outputs,labels)\n",
        "      \n",
        "      test_loss += loss.item()\n",
        "      _, predict = outputs.max(1)\n",
        "      total += labels.size(0)\n",
        "      correct += predict.eq(labels).sum().item()\n",
        "  acc = 100.*correct/total\n",
        "  if acc > best_acc:\n",
        "    best_acc = acc\n",
        "  print('Test loss: {:.2f}, Test accuracy:{:.2f} %'.format(test_loss/len(testDataLoader),acc))\n",
        "  print('Best accuracy: {:.2f}%'.format(best_acc))\n",
        "  test_loss_history.append(test_loss/len(testDataLoader))\n",
        "  test_accuracy_history.append(acc)"
      ]
    },
    {
      "cell_type": "code",
      "execution_count": 19,
      "metadata": {
        "colab": {
          "base_uri": "https://localhost:8080/"
        },
        "id": "FnqYKJ45-36j",
        "outputId": "d2873773-9166-4b9b-c04f-370bdf76190c"
      },
      "outputs": [
        {
          "output_type": "stream",
          "name": "stdout",
          "text": [
            "\n",
            "Epoch: 100\n",
            "Train loss: 0.06, Train accuracy:97.80 %\n",
            "Test loss: 0.37, Test accuracy:91.72 %\n",
            "Best accuracy: 91.93%\n",
            "\n",
            "Epoch: 101\n",
            "Train loss: 0.06, Train accuracy:97.94 %\n",
            "Test loss: 0.35, Test accuracy:92.27 %\n",
            "Best accuracy: 92.27%\n",
            "\n",
            "Epoch: 102\n",
            "Train loss: 0.06, Train accuracy:97.95 %\n",
            "Test loss: 0.38, Test accuracy:91.41 %\n",
            "Best accuracy: 92.27%\n",
            "\n",
            "Epoch: 103\n",
            "Train loss: 0.06, Train accuracy:98.02 %\n",
            "Test loss: 0.38, Test accuracy:91.73 %\n",
            "Best accuracy: 92.27%\n",
            "\n",
            "Epoch: 104\n",
            "Train loss: 0.06, Train accuracy:98.00 %\n",
            "Test loss: 0.35, Test accuracy:92.16 %\n",
            "Best accuracy: 92.27%\n",
            "\n",
            "Epoch: 105\n",
            "Train loss: 0.06, Train accuracy:98.08 %\n",
            "Test loss: 0.37, Test accuracy:91.58 %\n",
            "Best accuracy: 92.27%\n",
            "\n",
            "Epoch: 106\n",
            "Train loss: 0.05, Train accuracy:98.17 %\n",
            "Test loss: 0.35, Test accuracy:92.04 %\n",
            "Best accuracy: 92.27%\n",
            "\n",
            "Epoch: 107\n",
            "Train loss: 0.05, Train accuracy:98.23 %\n",
            "Test loss: 0.37, Test accuracy:91.88 %\n",
            "Best accuracy: 92.27%\n",
            "\n",
            "Epoch: 108\n",
            "Train loss: 0.05, Train accuracy:98.24 %\n",
            "Test loss: 0.38, Test accuracy:91.67 %\n",
            "Best accuracy: 92.27%\n",
            "\n",
            "Epoch: 109\n",
            "Train loss: 0.05, Train accuracy:98.25 %\n",
            "Test loss: 0.37, Test accuracy:92.11 %\n",
            "Best accuracy: 92.27%\n"
          ]
        }
      ],
      "source": [
        "for epoch in range(start_epoch, start_epoch+110):\n",
        "    train(epoch)\n",
        "    test(epoch)\n",
        "    scheduler.step()\n",
        "start_epoch += 110"
      ]
    },
    {
      "cell_type": "code",
      "execution_count": 22,
      "metadata": {
        "id": "xJL3FKJOLRWB",
        "colab": {
          "base_uri": "https://localhost:8080/",
          "height": 296
        },
        "outputId": "8ed2c785-1ade-4d80-ea1b-eeee2da3a51c"
      },
      "outputs": [
        {
          "output_type": "execute_result",
          "data": {
            "text/plain": [
              "<matplotlib.legend.Legend at 0x7f74241db150>"
            ]
          },
          "metadata": {},
          "execution_count": 22
        },
        {
          "output_type": "display_data",
          "data": {
            "text/plain": [
              "<Figure size 432x288 with 1 Axes>"
            ],
            "image/png": "[encoded data removed]"
          },
          "metadata": {
            "needs_background": "light"
          }
        }
      ],
      "source": [
        "plt.plot(range(len(train_loss_history)),train_loss_history,'-',linewidth=3,label='Train error')\n",
        "plt.plot(range(len(test_loss_history)),test_loss_history,'-',linewidth=3,label='Test error')\n",
        "plt.xlabel('epoch')\n",
        "plt.ylabel('loss')\n",
        "plt.grid(True)\n",
        "plt.legend()"
      ]
    },
    {
      "cell_type": "code",
      "execution_count": 23,
      "metadata": {
        "id": "o_3ZJhWfxC_X",
        "colab": {
          "base_uri": "https://localhost:8080/",
          "height": 296
        },
        "outputId": "f05ab8a1-b28e-40ef-fff1-f5d1fb288c44"
      },
      "outputs": [
        {
          "output_type": "execute_result",
          "data": {
            "text/plain": [
              "<matplotlib.legend.Legend at 0x7f74217adf90>"
            ]
          },
          "metadata": {},
          "execution_count": 23
        },
        {
          "output_type": "display_data",
          "data": {
            "text/plain": [
              "<Figure size 432x288 with 1 Axes>"
            ],
            "image/png": "[encoded data removed]"
          },
          "metadata": {
            "needs_background": "light"
          }
        }
      ],
      "source": [
        "plt.plot(range(len(train_accuracy_history)),train_accuracy_history,'-',linewidth=3,label='Train accuracy')\n",
        "plt.plot(range(len(test_accuracy_history)),test_accuracy_history,'-',linewidth=3,label='Test accuracy')\n",
        "plt.xlabel('epoch')\n",
        "plt.ylabel('accuarcy')\n",
        "plt.grid(True)\n",
        "plt.legend()"
      ]
    },
    {
      "cell_type": "code",
      "execution_count": 24,
      "metadata": {
        "colab": {
          "base_uri": "https://localhost:8080/",
          "height": 17
        },
        "id": "s_g3rDsj2SQS",
        "outputId": "a9746889-06cb-470f-c6e6-518634f7a736"
      },
      "outputs": [
        {
          "output_type": "display_data",
          "data": {
            "text/plain": [
              "<IPython.core.display.Javascript object>"
            ],
            "application/javascript": [
              "\n",
              "    async function download(id, filename, size) {\n",
              "      if (!google.colab.kernel.accessAllowed) {\n",
              "        return;\n",
              "      }\n",
              "      const div = document.createElement('div');\n",
              "      const label = document.createElement('label');\n",
              "      label.textContent = `Downloading \"${filename}\": `;\n",
              "      div.appendChild(label);\n",
              "      const progress = document.createElement('progress');\n",
              "      progress.max = size;\n",
              "      div.appendChild(progress);\n",
              "      document.body.appendChild(div);\n",
              "\n",
              "      const buffers = [];\n",
              "      let downloaded = 0;\n",
              "\n",
              "      const channel = await google.colab.kernel.comms.open(id);\n",
              "      // Send a message to notify the kernel that we're ready.\n",
              "      channel.send({})\n",
              "\n",
              "      for await (const message of channel.messages) {\n",
              "        // Send a message to notify the kernel that we're ready.\n",
              "        channel.send({})\n",
              "        if (message.buffers) {\n",
              "          for (const buffer of message.buffers) {\n",
              "            buffers.push(buffer);\n",
              "            downloaded += buffer.byteLength;\n",
              "            progress.value = downloaded;\n",
              "          }\n",
              "        }\n",
              "      }\n",
              "      const blob = new Blob(buffers, {type: 'application/binary'});\n",
              "      const a = document.createElement('a');\n",
              "      a.href = window.URL.createObjectURL(blob);\n",
              "      a.download = filename;\n",
              "      div.appendChild(a);\n",
              "      a.click();\n",
              "      div.remove();\n",
              "    }\n",
              "  "
            ]
          },
          "metadata": {}
        },
        {
          "output_type": "display_data",
          "data": {
            "text/plain": [
              "<IPython.core.display.Javascript object>"
            ],
            "application/javascript": [
              "download(\"download_38d14475-af1a-4d60-9ba7-e2a7f47e9828\", \"project1_model.pt\", 17546925)"
            ]
          },
          "metadata": {}
        }
      ],
      "source": [
        "from google.colab import files\n",
        "torch.save(ResNet18.state_dict(), 'project1_model.pt')\n",
        "\n",
        "# download checkpoint file\n",
        "files.download('project1_model.pt')"
      ]
    },
    {
      "cell_type": "code",
      "execution_count": null,
      "metadata": {
        "colab": {
          "base_uri": "https://localhost:8080/"
        },
        "id": "1lfY_0p3hcmg",
        "outputId": "49d90464-3a72-49a0-d128-2557bd0935d6"
      },
      "outputs": [
        {
          "output_type": "execute_result",
          "data": {
            "text/plain": [
              "<All keys matched successfully>"
            ]
          },
          "metadata": {},
          "execution_count": 29
        }
      ],
      "source": [
        "# read model file\n",
        "device = torch.device('cuda:0' if torch.cuda.is_available() else 'cpu')\n",
        "model = ResNet18\n",
        "model_path = './project1_model.pt'\n",
        "model.load_state_dict(torch.load(model_path, map_location=device), strict=False)"
      ]
    },
    {
      "cell_type": "code",
      "source": [
        ""
      ],
      "metadata": {
        "id": "wARyq0T1Lh2_"
      },
      "execution_count": null,
      "outputs": []
    }
  ],
  "metadata": {
    "accelerator": "GPU",
    "colab": {
      "collapsed_sections": [],
      "name": "ResNet",
      "provenance": []
    },
    "kernelspec": {
      "display_name": "Python 3",
      "name": "python3"
    },
    "widgets": {
      "application/vnd.jupyter.widget-state+json": {
        "0ee59a190f2d4dd5b82529366642e788": {
          "model_module": "@jupyter-widgets/controls",
          "model_name": "HBoxModel",
          "model_module_version": "1.5.0",
          "state": {
            "_dom_classes": [],
            "_model_module": "@jupyter-widgets/controls",
            "_model_module_version": "1.5.0",
            "_model_name": "HBoxModel",
            "_view_count": null,
            "_view_module": "@jupyter-widgets/controls",
            "_view_module_version": "1.5.0",
            "_view_name": "HBoxView",
            "box_style": "",
            "children": [
              "IPY_MODEL_8b5440a1b6b3408cbcd5ced32b5deb5e",
              "IPY_MODEL_a424066cf1a544aba922b770ad557ef3",
              "IPY_MODEL_434304c578e646dd9eab121a4b20fa18"
            ],
            "layout": "IPY_MODEL_bcfdd9d77b804b349da336df60446b96"
          }
        },
        "8b5440a1b6b3408cbcd5ced32b5deb5e": {
          "model_module": "@jupyter-widgets/controls",
          "model_name": "HTMLModel",
          "model_module_version": "1.5.0",
          "state": {
            "_dom_classes": [],
            "_model_module": "@jupyter-widgets/controls",
            "_model_module_version": "1.5.0",
            "_model_name": "HTMLModel",
            "_view_count": null,
            "_view_module": "@jupyter-widgets/controls",
            "_view_module_version": "1.5.0",
            "_view_name": "HTMLView",
            "description": "",
            "description_tooltip": null,
            "layout": "IPY_MODEL_4b01dfc3111445d7b61996ddd6a3f788",
            "placeholder": "​",
            "style": "IPY_MODEL_009fe366c79d4434a2b07b664f6c59be",
            "value": ""
          }
        },
        "a424066cf1a544aba922b770ad557ef3": {
          "model_module": "@jupyter-widgets/controls",
          "model_name": "FloatProgressModel",
          "model_module_version": "1.5.0",
          "state": {
            "_dom_classes": [],
            "_model_module": "@jupyter-widgets/controls",
            "_model_module_version": "1.5.0",
            "_model_name": "FloatProgressModel",
            "_view_count": null,
            "_view_module": "@jupyter-widgets/controls",
            "_view_module_version": "1.5.0",
            "_view_name": "ProgressView",
            "bar_style": "success",
            "description": "",
            "description_tooltip": null,
            "layout": "IPY_MODEL_664f77962f12455ab37fac127cf73061",
            "max": 170498071,
            "min": 0,
            "orientation": "horizontal",
            "style": "IPY_MODEL_85ebbbcde30e45f687daf7c926016ffd",
            "value": 170498071
          }
        },
        "434304c578e646dd9eab121a4b20fa18": {
          "model_module": "@jupyter-widgets/controls",
          "model_name": "HTMLModel",
          "model_module_version": "1.5.0",
          "state": {
            "_dom_classes": [],
            "_model_module": "@jupyter-widgets/controls",
            "_model_module_version": "1.5.0",
            "_model_name": "HTMLModel",
            "_view_count": null,
            "_view_module": "@jupyter-widgets/controls",
            "_view_module_version": "1.5.0",
            "_view_name": "HTMLView",
            "description": "",
            "description_tooltip": null,
            "layout": "IPY_MODEL_2cdc73ab59bb4ed7850456476d036d8c",
            "placeholder": "​",
            "style": "IPY_MODEL_513074880d0c4df48e33ad30eb6fb314",
            "value": " 170499072/? [00:06&lt;00:00, 33497593.44it/s]"
          }
        },
        "bcfdd9d77b804b349da336df60446b96": {
          "model_module": "@jupyter-widgets/base",
          "model_name": "LayoutModel",
          "model_module_version": "1.2.0",
          "state": {
            "_model_module": "@jupyter-widgets/base",
            "_model_module_version": "1.2.0",
            "_model_name": "LayoutModel",
            "_view_count": null,
            "_view_module": "@jupyter-widgets/base",
            "_view_module_version": "1.2.0",
            "_view_name": "LayoutView",
            "align_content": null,
            "align_items": null,
            "align_self": null,
            "border": null,
            "bottom": null,
            "display": null,
            "flex": null,
            "flex_flow": null,
            "grid_area": null,
            "grid_auto_columns": null,
            "grid_auto_flow": null,
            "grid_auto_rows": null,
            "grid_column": null,
            "grid_gap": null,
            "grid_row": null,
            "grid_template_areas": null,
            "grid_template_columns": null,
            "grid_template_rows": null,
            "height": null,
            "justify_content": null,
            "justify_items": null,
            "left": null,
            "margin": null,
            "max_height": null,
            "max_width": null,
            "min_height": null,
            "min_width": null,
            "object_fit": null,
            "object_position": null,
            "order": null,
            "overflow": null,
            "overflow_x": null,
            "overflow_y": null,
            "padding": null,
            "right": null,
            "top": null,
            "visibility": null,
            "width": null
          }
        },
        "4b01dfc3111445d7b61996ddd6a3f788": {
          "model_module": "@jupyter-widgets/base",
          "model_name": "LayoutModel",
          "model_module_version": "1.2.0",
          "state": {
            "_model_module": "@jupyter-widgets/base",
            "_model_module_version": "1.2.0",
            "_model_name": "LayoutModel",
            "_view_count": null,
            "_view_module": "@jupyter-widgets/base",
            "_view_module_version": "1.2.0",
            "_view_name": "LayoutView",
            "align_content": null,
            "align_items": null,
            "align_self": null,
            "border": null,
            "bottom": null,
            "display": null,
            "flex": null,
            "flex_flow": null,
            "grid_area": null,
            "grid_auto_columns": null,
            "grid_auto_flow": null,
            "grid_auto_rows": null,
            "grid_column": null,
            "grid_gap": null,
            "grid_row": null,
            "grid_template_areas": null,
            "grid_template_columns": null,
            "grid_template_rows": null,
            "height": null,
            "justify_content": null,
            "justify_items": null,
            "left": null,
            "margin": null,
            "max_height": null,
            "max_width": null,
            "min_height": null,
            "min_width": null,
            "object_fit": null,
            "object_position": null,
            "order": null,
            "overflow": null,
            "overflow_x": null,
            "overflow_y": null,
            "padding": null,
            "right": null,
            "top": null,
            "visibility": null,
            "width": null
          }
        },
        "009fe366c79d4434a2b07b664f6c59be": {
          "model_module": "@jupyter-widgets/controls",
          "model_name": "DescriptionStyleModel",
          "model_module_version": "1.5.0",
          "state": {
            "_model_module": "@jupyter-widgets/controls",
            "_model_module_version": "1.5.0",
            "_model_name": "DescriptionStyleModel",
            "_view_count": null,
            "_view_module": "@jupyter-widgets/base",
            "_view_module_version": "1.2.0",
            "_view_name": "StyleView",
            "description_width": ""
          }
        },
        "664f77962f12455ab37fac127cf73061": {
          "model_module": "@jupyter-widgets/base",
          "model_name": "LayoutModel",
          "model_module_version": "1.2.0",
          "state": {
            "_model_module": "@jupyter-widgets/base",
            "_model_module_version": "1.2.0",
            "_model_name": "LayoutModel",
            "_view_count": null,
            "_view_module": "@jupyter-widgets/base",
            "_view_module_version": "1.2.0",
            "_view_name": "LayoutView",
            "align_content": null,
            "align_items": null,
            "align_self": null,
            "border": null,
            "bottom": null,
            "display": null,
            "flex": null,
            "flex_flow": null,
            "grid_area": null,
            "grid_auto_columns": null,
            "grid_auto_flow": null,
            "grid_auto_rows": null,
            "grid_column": null,
            "grid_gap": null,
            "grid_row": null,
            "grid_template_areas": null,
            "grid_template_columns": null,
            "grid_template_rows": null,
            "height": null,
            "justify_content": null,
            "justify_items": null,
            "left": null,
            "margin": null,
            "max_height": null,
            "max_width": null,
            "min_height": null,
            "min_width": null,
            "object_fit": null,
            "object_position": null,
            "order": null,
            "overflow": null,
            "overflow_x": null,
            "overflow_y": null,
            "padding": null,
            "right": null,
            "top": null,
            "visibility": null,
            "width": null
          }
        },
        "85ebbbcde30e45f687daf7c926016ffd": {
          "model_module": "@jupyter-widgets/controls",
          "model_name": "ProgressStyleModel",
          "model_module_version": "1.5.0",
          "state": {
            "_model_module": "@jupyter-widgets/controls",
            "_model_module_version": "1.5.0",
            "_model_name": "ProgressStyleModel",
            "_view_count": null,
            "_view_module": "@jupyter-widgets/base",
            "_view_module_version": "1.2.0",
            "_view_name": "StyleView",
            "bar_color": null,
            "description_width": ""
          }
        },
        "2cdc73ab59bb4ed7850456476d036d8c": {
          "model_module": "@jupyter-widgets/base",
          "model_name": "LayoutModel",
          "model_module_version": "1.2.0",
          "state": {
            "_model_module": "@jupyter-widgets/base",
            "_model_module_version": "1.2.0",
            "_model_name": "LayoutModel",
            "_view_count": null,
            "_view_module": "@jupyter-widgets/base",
            "_view_module_version": "1.2.0",
            "_view_name": "LayoutView",
            "align_content": null,
            "align_items": null,
            "align_self": null,
            "border": null,
            "bottom": null,
            "display": null,
            "flex": null,
            "flex_flow": null,
            "grid_area": null,
            "grid_auto_columns": null,
            "grid_auto_flow": null,
            "grid_auto_rows": null,
            "grid_column": null,
            "grid_gap": null,
            "grid_row": null,
            "grid_template_areas": null,
            "grid_template_columns": null,
            "grid_template_rows": null,
            "height": null,
            "justify_content": null,
            "justify_items": null,
            "left": null,
            "margin": null,
            "max_height": null,
            "max_width": null,
            "min_height": null,
            "min_width": null,
            "object_fit": null,
            "object_position": null,
            "order": null,
            "overflow": null,
            "overflow_x": null,
            "overflow_y": null,
            "padding": null,
            "right": null,
            "top": null,
            "visibility": null,
            "width": null
          }
        },
        "513074880d0c4df48e33ad30eb6fb314": {
          "model_module": "@jupyter-widgets/controls",
          "model_name": "DescriptionStyleModel",
          "model_module_version": "1.5.0",
          "state": {
            "_model_module": "@jupyter-widgets/controls",
            "_model_module_version": "1.5.0",
            "_model_name": "DescriptionStyleModel",
            "_view_count": null,
            "_view_module": "@jupyter-widgets/base",
            "_view_module_version": "1.2.0",
            "_view_name": "StyleView",
            "description_width": ""
          }
        }
      }
    }
  },
  "nbformat": 4,
  "nbformat_minor": 0
}