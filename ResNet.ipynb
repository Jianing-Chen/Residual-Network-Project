{
  "cells": [
    {
      "cell_type": "code",
      "execution_count": 1,
      "metadata": {
        "id": "DqjmlixNCMlZ"
      },
      "outputs": [],
      "source": [
        "import numpy as np\n",
        "import torch\n",
        "import torch.nn as nn \n",
        "import torch.nn.functional as F\n",
        "import torchvision\n",
        "import torchvision.transforms as transforms"
      ]
    },
    {
      "cell_type": "code",
      "execution_count": 2,
      "metadata": {
        "id": "Ze3HNZxzHIi2"
      },
      "outputs": [],
      "source": [
        "def set_seed(seed = 16):\n",
        "    np.random.seed(seed)\n",
        "    torch.manual_seed(seed)"
      ]
    },
    {
      "cell_type": "code",
      "execution_count": 3,
      "metadata": {
        "id": "HLHQGbHHTP6w"
      },
      "outputs": [],
      "source": [
        "\"\"\"\n",
        "Cutout is used from https://github.com/uoguelph-mlrg/Cutout\n",
        "\"\"\"\n",
        "class Cutout(object):\n",
        "    \"\"\"Randomly mask out one or more patches from an image.\n",
        "\n",
        "    Args:\n",
        "        n_holes (int): Number of patches to cut out of each image.\n",
        "        length (int): The length (in pixels) of each square patch.\n",
        "    \"\"\"\n",
        "    def __init__(self, n_holes, length):\n",
        "        self.n_holes = n_holes\n",
        "        self.length = length\n",
        "\n",
        "    def __call__(self, img):\n",
        "        \"\"\"\n",
        "        Args:\n",
        "            img (Tensor): Tensor image of size (C, H, W).\n",
        "        Returns:\n",
        "            Tensor: Image with n_holes of dimension length x length cut out of it.\n",
        "        \"\"\"\n",
        "        h = img.size(1)\n",
        "        w = img.size(2)\n",
        "\n",
        "        mask = np.ones((h, w), np.float32)\n",
        "\n",
        "        for n in range(self.n_holes):\n",
        "            y = np.random.randint(h)\n",
        "            x = np.random.randint(w)\n",
        "\n",
        "            y1 = np.clip(y - self.length // 2, 0, h)\n",
        "            y2 = np.clip(y + self.length // 2, 0, h)\n",
        "            x1 = np.clip(x - self.length // 2, 0, w)\n",
        "            x2 = np.clip(x + self.length // 2, 0, w)\n",
        "\n",
        "            mask[y1: y2, x1: x2] = 0.\n",
        "\n",
        "        mask = torch.from_numpy(mask)\n",
        "        mask = mask.expand_as(img)\n",
        "        img = img * mask\n",
        "\n",
        "        return img"
      ]
    },
    {
      "cell_type": "code",
      "execution_count": 4,
      "metadata": {
        "id": "A3bJWKcgxc3J"
      },
      "outputs": [],
      "source": [
        "# Original image\n",
        "normalize =  transforms.Normalize(mean=[x / 255.0 for x in [125.3, 123.0, 113.9]],std=[x / 255.0 for x in [63.0, 62.1, 66.7]])\n",
        "t0 = transforms.Compose([\n",
        "                         transforms.ToTensor(),\n",
        "])\n",
        "# Crop \n",
        "t1 = transforms.Compose([\n",
        "                         transforms.RandomResizedCrop(32,(0.8,1.0)),\n",
        "                         transforms.ToTensor(),\n",
        "                        \n",
        "])\n",
        "# Vertical flip\n",
        "t2 = transforms.Compose([\n",
        "                         transforms.RandomVerticalFlip(),\n",
        "                         transforms.ToTensor(),\n",
        "                    \n",
        "                         \n",
        "])\n",
        "# Horizontal flip\n",
        "t3 = transforms.Compose([\n",
        "                         transforms.RandomHorizontalFlip(),\n",
        "                         transforms.ToTensor(),\n",
        "                        \n",
        "])\n",
        "# Distort\n",
        "t4 = transforms.Compose([\n",
        "                         transforms.ColorJitter(3),\n",
        "                         transforms.ToTensor(),\n",
        "                   \n",
        "])\n",
        "# Rotate\n",
        "t5 = transforms.Compose([\n",
        "                         transforms.RandomRotation(270),\n",
        "                         transforms.ToTensor(),\n",
        "                      \n",
        "])\n",
        "# Cutout\n",
        "t6 = transforms.Compose([\n",
        "                         transforms.ToTensor(),\n",
        "                         Cutout(n_holes=1, length=16),\n",
        "                         \n",
        "])\n",
        "#GaussianBlur\n",
        "t7 = transforms.Compose([\n",
        "                         transforms.GaussianBlur(3),\n",
        "                         transforms.ToTensor(),\n",
        "                      \n",
        "])\n",
        "t136 = transforms.Compose([\n",
        "                           transforms.RandomResizedCrop(32,(0.8,1.0)),\n",
        "                           transforms.RandomHorizontalFlip(),\n",
        "                           transforms.ToTensor(),\n",
        "                           Cutout(n_holes=1, length=16)\n",
        "])"
      ]
    },
    {
      "cell_type": "code",
      "execution_count": 5,
      "metadata": {
        "colab": {
          "base_uri": "https://localhost:8080/",
          "height": 102,
          "referenced_widgets": [
            "feb12978ebde474c8a50875b56932e40",
            "b4c60455f7044c63b6430c2df33546b1",
            "e70cfe17afd84f33859baf6f6ce57ee0",
            "88449be49c064728b177aeaa92772570",
            "3bff44d793ed463e8dc34d072733f2e0",
            "02c9117af7bd47dd97ee5df4ab278408",
            "f6e48ac5f32147938e0a2d9f1cf380ff",
            "5a5a0ac67ec0433b890f934ec98ac63c",
            "539730f742134a959117f0903483fc37",
            "aa60e96f76b0435c8a8f6cd8507e2053",
            "0d6099ae17eb43b49156469a57eb9187"
          ]
        },
        "id": "0YtU_eAbXV9P",
        "outputId": "371c459f-0528-4ff4-d5de-559533a31345"
      },
      "outputs": [
        {
          "output_type": "stream",
          "name": "stdout",
          "text": [
            "Downloading https://www.cs.toronto.edu/~kriz/cifar-10-python.tar.gz to ./CIFAR-10/cifar-10-python.tar.gz\n"
          ]
        },
        {
          "output_type": "display_data",
          "data": {
            "text/plain": [
              "  0%|          | 0/170498071 [00:00<?, ?it/s]"
            ],
            "application/vnd.jupyter.widget-view+json": {
              "version_major": 2,
              "version_minor": 0,
              "model_id": "feb12978ebde474c8a50875b56932e40"
            }
          },
          "metadata": {}
        },
        {
          "output_type": "stream",
          "name": "stdout",
          "text": [
            "Extracting ./CIFAR-10/cifar-10-python.tar.gz to ./CIFAR-10/\n",
            "Files already downloaded and verified\n"
          ]
        }
      ],
      "source": [
        "trainingdata = torchvision.datasets.CIFAR10('./CIFAR-10/',train=True,download=True,transform=t136)\n",
        "testdata = torchvision.datasets.CIFAR10('./CIFAR-10/',train=False,download=True,transform=t0)"
      ]
    },
    {
      "cell_type": "code",
      "execution_count": 6,
      "metadata": {
        "colab": {
          "base_uri": "https://localhost:8080/"
        },
        "id": "HGpkNdXDC0MW",
        "outputId": "37aaee8b-0a70-49e9-cc6f-d66b824bd90f"
      },
      "outputs": [
        {
          "output_type": "stream",
          "name": "stdout",
          "text": [
            "50000\n",
            "10000\n"
          ]
        }
      ],
      "source": [
        "print(len(trainingdata))\n",
        "print(len(testdata))"
      ]
    },
    {
      "cell_type": "code",
      "execution_count": 7,
      "metadata": {
        "colab": {
          "base_uri": "https://localhost:8080/"
        },
        "id": "ESuk-dMuDI50",
        "outputId": "f0834b17-3a2d-4c18-96ea-44fd562b36b0"
      },
      "outputs": [
        {
          "output_type": "stream",
          "name": "stdout",
          "text": [
            "torch.Size([3, 32, 32]) 6\n"
          ]
        }
      ],
      "source": [
        "image, label = trainingdata[0]\n",
        "print(image.shape, label)"
      ]
    },
    {
      "cell_type": "code",
      "execution_count": 8,
      "metadata": {
        "colab": {
          "base_uri": "https://localhost:8080/",
          "height": 266
        },
        "id": "VFwxybfdDdJm",
        "outputId": "05202415-f854-44cb-f2dc-0a5363190330"
      },
      "outputs": [
        {
          "output_type": "display_data",
          "data": {
            "text/plain": [
              "<Figure size 432x288 with 1 Axes>"
            ],
            "image/png": "[encoded data removed]"
          },
          "metadata": {
            "needs_background": "light"
          }
        }
      ],
      "source": [
        "import matplotlib.pyplot as plt\n",
        "%matplotlib inline\n",
        "plt.imshow(image.permute((1, 2, 0)))\n",
        "plt.show()"
      ]
    },
    {
      "cell_type": "code",
      "execution_count": 9,
      "metadata": {
        "id": "hnES23k0EN4_"
      },
      "outputs": [],
      "source": [
        "trainDataLoader = torch.utils.data.DataLoader(trainingdata,batch_size=64,shuffle=True)\n",
        "testDataLoader = torch.utils.data.DataLoader(testdata,batch_size=64,shuffle=False)"
      ]
    },
    {
      "cell_type": "code",
      "execution_count": 10,
      "metadata": {
        "colab": {
          "base_uri": "https://localhost:8080/",
          "height": 147
        },
        "id": "aQkgEdydEoHH",
        "outputId": "35ef3c9e-b6bf-4100-c0f0-f9d8e7972ca0"
      },
      "outputs": [
        {
          "output_type": "display_data",
          "data": {
            "text/plain": [
              "<Figure size 720x288 with 5 Axes>"
            ],
            "image/png": "[encoded data removed]"
          },
          "metadata": {
            "needs_background": "light"
          }
        }
      ],
      "source": [
        "\n",
        "images, labels = iter(trainDataLoader).next()\n",
        "plt.figure(figsize=(10,4))\n",
        "for index in np.arange(0,5):\n",
        "  plt.subplot(1,5,index+1)\n",
        "  plt.imshow(images[index].permute((1, 2, 0)))"
      ]
    },
    {
      "cell_type": "code",
      "execution_count": 17,
      "metadata": {
        "id": "fJy4Ow0WJ6Te"
      },
      "outputs": [],
      "source": [
        "# Model architecture\n",
        "class BasicBlock(torch.nn.Module):\n",
        "  expansion = 1\n",
        "\n",
        "  def __init__(self, in_planes,planes, stride = 1):\n",
        "    super(BasicBlock, self).__init__()\n",
        "    self.conv1 = nn.Conv2d(in_planes, planes, kernel_size=3, stride=stride, padding = 1, bias = False)\n",
        "    self.bn1 = nn.BatchNorm2d(planes)\n",
        "    self.conv2 = nn.Conv2d(planes, planes, kernel_size = 3, stride = 1, padding = 1, bias = False)\n",
        "    self.bn2 = nn.BatchNorm2d(planes)\n",
        "\n",
        "    self.shortcut = nn.Sequential()\n",
        "    if (stride != 1 or in_planes != self.expansion*planes):\n",
        "      self.shortcut = nn.Sequential(nn.Conv2d(in_planes,self.expansion*planes,kernel_size=1,stride=stride,bias=False),\n",
        "                                    nn.BatchNorm2d(self.expansion*planes)\n",
        "                                    )\n",
        "\n",
        "  def forward(self, x):\n",
        "    out = F.relu(self.bn1(self.conv1(x)))\n",
        "    out = self.bn2(self.conv2(out))\n",
        "    out += self.shortcut(x)\n",
        "    out = F.relu(out)\n",
        "    return out\n",
        "\n",
        "class ResNet(nn.Module):\n",
        "  def __init__(self,block,num_blocks, num_classes = 10):\n",
        "    super(ResNet, self).__init__()\n",
        "    self.in_planes = 32\n",
        "    self.conv1 = nn.Conv2d(3,32,kernel_size=3,stride = 1, padding = 1, bias = False)\n",
        "    self.bn1 = nn.BatchNorm2d(32)\n",
        "    self.layer1 = self._make_layer(block, 32, num_blocks[0], stride = 1)\n",
        "    self.layer2 = self._make_layer(block, 64, num_blocks[1], stride = 2)\n",
        "    self.layer3 = self._make_layer(block, 128, num_blocks[2], stride = 2)\n",
        "    self.layer4 = self._make_layer(block, 256, num_blocks[3], stride = 2)\n",
        "    self.linear = nn.Linear(256*block.expansion,num_classes)\n",
        "\n",
        "\n",
        "  def _make_layer(self, block, planes, num_blocks, stride):\n",
        "    strides = [stride] + [1]*(num_blocks-1)\n",
        "    layers = []\n",
        "    for stride in strides:\n",
        "      layers.append(block(self.in_planes,planes,stride))\n",
        "      self.in_planes = planes * block.expansion\n",
        "    return nn.Sequential(*layers)\n",
        "  \n",
        "  def forward(self, x):\n",
        "    out = F.relu(self.bn1(self.conv1(x)))\n",
        "    out = self.layer1(out)\n",
        "    out = self.layer2(out)\n",
        "    out = self.layer3(out)\n",
        "    out = self.layer4(out)\n",
        "    out = F.avg_pool2d(out,4)\n",
        "    out = out.view(out.size(0), -1)\n",
        "    out = self.linear(out)\n",
        "    return out\n",
        "\n",
        "ResNet18 = ResNet(BasicBlock,[3,3,3,3]).cuda()\n",
        "Loss = torch.nn.CrossEntropyLoss()\n",
        "#optimizer = torch.optim.Adam(ResNet18.parameters(), lr=0.01, betas=(0.9, 0.999), eps=1e-08)\n",
        "optimizer = torch.optim.SGD(ResNet18.parameters(), lr=0.05, momentum=0.9)\n",
        "scheduler = torch.optim.lr_scheduler.CosineAnnealingLR(optimizer, T_max = 200)\n",
        "start_epoch = 0\n",
        "best_acc = 0\n"
      ]
    },
    {
      "cell_type": "code",
      "execution_count": 18,
      "metadata": {
        "colab": {
          "base_uri": "https://localhost:8080/"
        },
        "id": "_Hhj484D0Kdf",
        "outputId": "102f7d6f-e9ee-42a0-daac-8653b6703f46"
      },
      "outputs": [
        {
          "output_type": "stream",
          "name": "stdout",
          "text": [
            "4366250\n"
          ]
        }
      ],
      "source": [
        "def count_parameters(model):\n",
        "    return sum(p.numel() for p in model.parameters() if p.requires_grad)\n",
        "\n",
        "print(count_parameters(ResNet18))"
      ]
    },
    {
      "cell_type": "code",
      "execution_count": 19,
      "metadata": {
        "id": "Dfhl3EvMbA6K"
      },
      "outputs": [],
      "source": [
        "train_loss_history = []\n",
        "train_accuracy_history = []\n",
        "test_loss_history = []\n",
        "test_accuracy_history = []"
      ]
    },
    {
      "cell_type": "code",
      "execution_count": 20,
      "metadata": {
        "id": "M7uJydfJKNf1"
      },
      "outputs": [],
      "source": [
        "def train(epoch):\n",
        "  print('\\nEpoch: %d' %epoch)\n",
        "  ResNet18.train()\n",
        "  train_loss = 0\n",
        "  correct = 0\n",
        "  total = 0\n",
        "  for idx, (images,labels) in enumerate(trainDataLoader):\n",
        "    images = images.cuda()\n",
        "    labels = labels.cuda()\n",
        "    optimizer.zero_grad()\n",
        "    outputs = ResNet18(images)\n",
        "    loss = Loss(outputs,labels)\n",
        "    loss.backward()\n",
        "    optimizer.step()\n",
        "\n",
        "    train_loss += loss.item()\n",
        "    _, predict = outputs.max(1)\n",
        "    total += labels.size(0)\n",
        "    correct += predict.eq(labels).sum().item()\n",
        "  print('Train loss: {:.2f}, Train accuracy:{:.2f} %'.format(train_loss/len(trainDataLoader),correct/total*100))\n",
        "  train_loss_history.append(train_loss/len(trainDataLoader))\n",
        "  train_accuracy_history.append(correct/total*100)"
      ]
    },
    {
      "cell_type": "code",
      "execution_count": 21,
      "metadata": {
        "id": "7M_KXTR-9qI_"
      },
      "outputs": [],
      "source": [
        "def test(epoch):\n",
        "  ResNet18.eval()\n",
        "  global best_acc\n",
        "  test_loss = 0\n",
        "  correct = 0\n",
        "  total = 0\n",
        "  with torch.no_grad():\n",
        "    for idx, (images,labels) in enumerate(testDataLoader):\n",
        "      images = images.cuda()\n",
        "      labels = labels.cuda()\n",
        "      outputs = ResNet18(images)\n",
        "      loss = Loss(outputs,labels)\n",
        "      \n",
        "      test_loss += loss.item()\n",
        "      _, predict = outputs.max(1)\n",
        "      total += labels.size(0)\n",
        "      correct += predict.eq(labels).sum().item()\n",
        "  acc = 100.*correct/total\n",
        "  if acc > best_acc:\n",
        "    best_acc = acc\n",
        "  print('Test loss: {:.2f}, Test accuracy:{:.2f} %'.format(test_loss/len(testDataLoader),acc))\n",
        "  print('Best accuracy: {:.2f}%'.format(best_acc))\n",
        "  test_loss_history.append(test_loss/len(testDataLoader))\n",
        "  test_accuracy_history.append(acc)"
      ]
    },
    {
      "cell_type": "code",
      "execution_count": 22,
      "metadata": {
        "colab": {
          "base_uri": "https://localhost:8080/"
        },
        "id": "FnqYKJ45-36j",
        "outputId": "b81bd3ef-9c05-47c3-b14e-c982e63e2377"
      },
      "outputs": [
        {
          "output_type": "stream",
          "name": "stdout",
          "text": [
            "\n",
            "Epoch: 0\n",
            "Train loss: 1.80, Train accuracy:33.73 %\n",
            "Test loss: 1.59, Test accuracy:43.08 %\n",
            "Best accuracy: 43.08%\n",
            "\n",
            "Epoch: 1\n",
            "Train loss: 1.40, Train accuracy:49.01 %\n",
            "Test loss: 1.10, Test accuracy:60.46 %\n",
            "Best accuracy: 60.46%\n",
            "\n",
            "Epoch: 2\n",
            "Train loss: 1.12, Train accuracy:59.83 %\n",
            "Test loss: 1.07, Test accuracy:63.18 %\n",
            "Best accuracy: 63.18%\n",
            "\n",
            "Epoch: 3\n",
            "Train loss: 0.95, Train accuracy:66.07 %\n",
            "Test loss: 0.84, Test accuracy:70.91 %\n",
            "Best accuracy: 70.91%\n",
            "\n",
            "Epoch: 4\n",
            "Train loss: 0.83, Train accuracy:70.67 %\n",
            "Test loss: 0.71, Test accuracy:75.64 %\n",
            "Best accuracy: 75.64%\n",
            "\n",
            "Epoch: 5\n",
            "Train loss: 0.75, Train accuracy:73.71 %\n",
            "Test loss: 0.71, Test accuracy:75.43 %\n",
            "Best accuracy: 75.64%\n",
            "\n",
            "Epoch: 6\n",
            "Train loss: 0.69, Train accuracy:75.80 %\n",
            "Test loss: 0.64, Test accuracy:78.08 %\n",
            "Best accuracy: 78.08%\n",
            "\n",
            "Epoch: 7\n",
            "Train loss: 0.64, Train accuracy:77.43 %\n",
            "Test loss: 0.59, Test accuracy:80.51 %\n",
            "Best accuracy: 80.51%\n",
            "\n",
            "Epoch: 8\n",
            "Train loss: 0.60, Train accuracy:79.00 %\n",
            "Test loss: 0.54, Test accuracy:81.55 %\n",
            "Best accuracy: 81.55%\n",
            "\n",
            "Epoch: 9\n",
            "Train loss: 0.57, Train accuracy:80.19 %\n",
            "Test loss: 0.61, Test accuracy:80.43 %\n",
            "Best accuracy: 81.55%\n",
            "\n",
            "Epoch: 10\n",
            "Train loss: 0.54, Train accuracy:81.15 %\n",
            "Test loss: 0.48, Test accuracy:83.40 %\n",
            "Best accuracy: 83.40%\n",
            "\n",
            "Epoch: 11\n",
            "Train loss: 0.51, Train accuracy:81.87 %\n",
            "Test loss: 0.49, Test accuracy:83.65 %\n",
            "Best accuracy: 83.65%\n",
            "\n",
            "Epoch: 12\n",
            "Train loss: 0.49, Train accuracy:83.12 %\n",
            "Test loss: 0.45, Test accuracy:84.77 %\n",
            "Best accuracy: 84.77%\n",
            "\n",
            "Epoch: 13\n",
            "Train loss: 0.47, Train accuracy:83.79 %\n",
            "Test loss: 0.42, Test accuracy:85.73 %\n",
            "Best accuracy: 85.73%\n",
            "\n",
            "Epoch: 14\n",
            "Train loss: 0.44, Train accuracy:84.44 %\n",
            "Test loss: 0.42, Test accuracy:86.21 %\n",
            "Best accuracy: 86.21%\n",
            "\n",
            "Epoch: 15\n",
            "Train loss: 0.43, Train accuracy:85.10 %\n",
            "Test loss: 0.41, Test accuracy:86.17 %\n",
            "Best accuracy: 86.21%\n",
            "\n",
            "Epoch: 16\n",
            "Train loss: 0.41, Train accuracy:85.46 %\n",
            "Test loss: 0.43, Test accuracy:85.70 %\n",
            "Best accuracy: 86.21%\n",
            "\n",
            "Epoch: 17\n",
            "Train loss: 0.40, Train accuracy:86.17 %\n",
            "Test loss: 0.39, Test accuracy:86.76 %\n",
            "Best accuracy: 86.76%\n",
            "\n",
            "Epoch: 18\n",
            "Train loss: 0.38, Train accuracy:86.68 %\n",
            "Test loss: 0.42, Test accuracy:86.57 %\n",
            "Best accuracy: 86.76%\n",
            "\n",
            "Epoch: 19\n",
            "Train loss: 0.37, Train accuracy:86.97 %\n",
            "Test loss: 0.39, Test accuracy:86.69 %\n",
            "Best accuracy: 86.76%\n",
            "\n",
            "Epoch: 20\n",
            "Train loss: 0.36, Train accuracy:87.54 %\n",
            "Test loss: 0.42, Test accuracy:86.65 %\n",
            "Best accuracy: 86.76%\n",
            "\n",
            "Epoch: 21\n",
            "Train loss: 0.34, Train accuracy:87.81 %\n",
            "Test loss: 0.37, Test accuracy:87.60 %\n",
            "Best accuracy: 87.60%\n",
            "\n",
            "Epoch: 22\n",
            "Train loss: 0.34, Train accuracy:88.29 %\n",
            "Test loss: 0.36, Test accuracy:87.95 %\n",
            "Best accuracy: 87.95%\n",
            "\n",
            "Epoch: 23\n",
            "Train loss: 0.32, Train accuracy:88.51 %\n",
            "Test loss: 0.37, Test accuracy:87.66 %\n",
            "Best accuracy: 87.95%\n",
            "\n",
            "Epoch: 24\n",
            "Train loss: 0.31, Train accuracy:88.82 %\n",
            "Test loss: 0.39, Test accuracy:87.45 %\n",
            "Best accuracy: 87.95%\n",
            "\n",
            "Epoch: 25\n",
            "Train loss: 0.30, Train accuracy:89.39 %\n",
            "Test loss: 0.35, Test accuracy:88.81 %\n",
            "Best accuracy: 88.81%\n",
            "\n",
            "Epoch: 26\n",
            "Train loss: 0.30, Train accuracy:89.50 %\n",
            "Test loss: 0.37, Test accuracy:88.13 %\n",
            "Best accuracy: 88.81%\n",
            "\n",
            "Epoch: 27\n",
            "Train loss: 0.28, Train accuracy:89.96 %\n",
            "Test loss: 0.34, Test accuracy:89.13 %\n",
            "Best accuracy: 89.13%\n",
            "\n",
            "Epoch: 28\n",
            "Train loss: 0.28, Train accuracy:89.84 %\n",
            "Test loss: 0.35, Test accuracy:88.66 %\n",
            "Best accuracy: 89.13%\n",
            "\n",
            "Epoch: 29\n",
            "Train loss: 0.27, Train accuracy:90.60 %\n",
            "Test loss: 0.34, Test accuracy:89.18 %\n",
            "Best accuracy: 89.18%\n",
            "\n",
            "Epoch: 30\n",
            "Train loss: 0.26, Train accuracy:90.88 %\n",
            "Test loss: 0.35, Test accuracy:88.99 %\n",
            "Best accuracy: 89.18%\n",
            "\n",
            "Epoch: 31\n",
            "Train loss: 0.25, Train accuracy:90.97 %\n",
            "Test loss: 0.35, Test accuracy:88.98 %\n",
            "Best accuracy: 89.18%\n",
            "\n",
            "Epoch: 32\n",
            "Train loss: 0.25, Train accuracy:91.21 %\n",
            "Test loss: 0.33, Test accuracy:89.74 %\n",
            "Best accuracy: 89.74%\n",
            "\n",
            "Epoch: 33\n",
            "Train loss: 0.24, Train accuracy:91.42 %\n",
            "Test loss: 0.34, Test accuracy:89.36 %\n",
            "Best accuracy: 89.74%\n",
            "\n",
            "Epoch: 34\n",
            "Train loss: 0.23, Train accuracy:91.96 %\n",
            "Test loss: 0.35, Test accuracy:89.52 %\n",
            "Best accuracy: 89.74%\n",
            "\n",
            "Epoch: 35\n",
            "Train loss: 0.23, Train accuracy:91.93 %\n",
            "Test loss: 0.33, Test accuracy:90.00 %\n",
            "Best accuracy: 90.00%\n",
            "\n",
            "Epoch: 36\n",
            "Train loss: 0.22, Train accuracy:92.14 %\n",
            "Test loss: 0.33, Test accuracy:89.93 %\n",
            "Best accuracy: 90.00%\n",
            "\n",
            "Epoch: 37\n",
            "Train loss: 0.22, Train accuracy:92.19 %\n",
            "Test loss: 0.36, Test accuracy:88.98 %\n",
            "Best accuracy: 90.00%\n",
            "\n",
            "Epoch: 38\n",
            "Train loss: 0.21, Train accuracy:92.39 %\n",
            "Test loss: 0.36, Test accuracy:89.20 %\n",
            "Best accuracy: 90.00%\n",
            "\n",
            "Epoch: 39\n",
            "Train loss: 0.20, Train accuracy:92.73 %\n",
            "Test loss: 0.36, Test accuracy:89.26 %\n",
            "Best accuracy: 90.00%\n",
            "\n",
            "Epoch: 40\n",
            "Train loss: 0.20, Train accuracy:92.78 %\n",
            "Test loss: 0.36, Test accuracy:89.10 %\n",
            "Best accuracy: 90.00%\n",
            "\n",
            "Epoch: 41\n",
            "Train loss: 0.19, Train accuracy:93.20 %\n",
            "Test loss: 0.35, Test accuracy:89.53 %\n",
            "Best accuracy: 90.00%\n",
            "\n",
            "Epoch: 42\n",
            "Train loss: 0.19, Train accuracy:93.24 %\n",
            "Test loss: 0.33, Test accuracy:90.29 %\n",
            "Best accuracy: 90.29%\n",
            "\n",
            "Epoch: 43\n",
            "Train loss: 0.19, Train accuracy:93.44 %\n",
            "Test loss: 0.32, Test accuracy:90.42 %\n",
            "Best accuracy: 90.42%\n",
            "\n",
            "Epoch: 44\n",
            "Train loss: 0.18, Train accuracy:93.59 %\n",
            "Test loss: 0.36, Test accuracy:89.71 %\n",
            "Best accuracy: 90.42%\n",
            "\n",
            "Epoch: 45\n",
            "Train loss: 0.17, Train accuracy:93.86 %\n",
            "Test loss: 0.34, Test accuracy:89.72 %\n",
            "Best accuracy: 90.42%\n",
            "\n",
            "Epoch: 46\n",
            "Train loss: 0.17, Train accuracy:93.73 %\n",
            "Test loss: 0.31, Test accuracy:90.94 %\n",
            "Best accuracy: 90.94%\n",
            "\n",
            "Epoch: 47\n",
            "Train loss: 0.17, Train accuracy:93.90 %\n",
            "Test loss: 0.31, Test accuracy:91.07 %\n",
            "Best accuracy: 91.07%\n",
            "\n",
            "Epoch: 48\n",
            "Train loss: 0.16, Train accuracy:94.23 %\n",
            "Test loss: 0.32, Test accuracy:90.28 %\n",
            "Best accuracy: 91.07%\n",
            "\n",
            "Epoch: 49\n",
            "Train loss: 0.16, Train accuracy:94.32 %\n",
            "Test loss: 0.33, Test accuracy:90.37 %\n",
            "Best accuracy: 91.07%\n"
          ]
        }
      ],
      "source": [
        "for epoch in range(start_epoch, start_epoch+50):\n",
        "    train(epoch)\n",
        "    test(epoch)\n",
        "    scheduler.step()\n",
        "start_epoch += 50"
      ]
    },
    {
      "cell_type": "code",
      "execution_count": 23,
      "metadata": {
        "colab": {
          "base_uri": "https://localhost:8080/",
          "height": 297
        },
        "id": "xJL3FKJOLRWB",
        "outputId": "d74d6360-2f38-4238-9729-0c93738da245"
      },
      "outputs": [
        {
          "output_type": "execute_result",
          "data": {
            "text/plain": [
              "<matplotlib.legend.Legend at 0x7f959020b990>"
            ]
          },
          "metadata": {},
          "execution_count": 23
        },
        {
          "output_type": "display_data",
          "data": {
            "text/plain": [
              "<Figure size 432x288 with 1 Axes>"
            ],
            "image/png": "[encoded data removed]"
          },
          "metadata": {
            "needs_background": "light"
          }
        }
      ],
      "source": [
        "plt.plot(range(len(train_loss_history)),train_loss_history,'-',linewidth=3,label='Train error')\n",
        "plt.plot(range(len(test_loss_history)),test_loss_history,'-',linewidth=3,label='Test error')\n",
        "plt.xlabel('epoch')\n",
        "plt.ylabel('loss')\n",
        "plt.grid(True)\n",
        "plt.legend()"
      ]
    },
    {
      "cell_type": "code",
      "execution_count": 24,
      "metadata": {
        "colab": {
          "base_uri": "https://localhost:8080/",
          "height": 297
        },
        "id": "o_3ZJhWfxC_X",
        "outputId": "d8459c5a-683b-498f-fa9b-aca5f8660de7"
      },
      "outputs": [
        {
          "output_type": "execute_result",
          "data": {
            "text/plain": [
              "<matplotlib.legend.Legend at 0x7f959023eb50>"
            ]
          },
          "metadata": {},
          "execution_count": 24
        },
        {
          "output_type": "display_data",
          "data": {
            "text/plain": [
              "<Figure size 432x288 with 1 Axes>"
            ],
            "image/png": "[encoded data removed]"
          },
          "metadata": {
            "needs_background": "light"
          }
        }
      ],
      "source": [
        "plt.plot(range(len(train_accuracy_history)),train_accuracy_history,'-',linewidth=3,label='Train accuracy')\n",
        "plt.plot(range(len(test_accuracy_history)),test_accuracy_history,'-',linewidth=3,label='Test accuracy')\n",
        "plt.xlabel('epoch')\n",
        "plt.ylabel('accuarcy')\n",
        "plt.grid(True)\n",
        "plt.legend()"
      ]
    },
    {
      "cell_type": "code",
      "execution_count": 25,
      "metadata": {
        "colab": {
          "base_uri": "https://localhost:8080/",
          "height": 17
        },
        "id": "s_g3rDsj2SQS",
        "outputId": "88a5958b-534e-4b23-d639-24ad3c86d442"
      },
      "outputs": [
        {
          "output_type": "display_data",
          "data": {
            "text/plain": [
              "<IPython.core.display.Javascript object>"
            ],
            "application/javascript": [
              "\n",
              "    async function download(id, filename, size) {\n",
              "      if (!google.colab.kernel.accessAllowed) {\n",
              "        return;\n",
              "      }\n",
              "      const div = document.createElement('div');\n",
              "      const label = document.createElement('label');\n",
              "      label.textContent = `Downloading \"${filename}\": `;\n",
              "      div.appendChild(label);\n",
              "      const progress = document.createElement('progress');\n",
              "      progress.max = size;\n",
              "      div.appendChild(progress);\n",
              "      document.body.appendChild(div);\n",
              "\n",
              "      const buffers = [];\n",
              "      let downloaded = 0;\n",
              "\n",
              "      const channel = await google.colab.kernel.comms.open(id);\n",
              "      // Send a message to notify the kernel that we're ready.\n",
              "      channel.send({})\n",
              "\n",
              "      for await (const message of channel.messages) {\n",
              "        // Send a message to notify the kernel that we're ready.\n",
              "        channel.send({})\n",
              "        if (message.buffers) {\n",
              "          for (const buffer of message.buffers) {\n",
              "            buffers.push(buffer);\n",
              "            downloaded += buffer.byteLength;\n",
              "            progress.value = downloaded;\n",
              "          }\n",
              "        }\n",
              "      }\n",
              "      const blob = new Blob(buffers, {type: 'application/binary'});\n",
              "      const a = document.createElement('a');\n",
              "      a.href = window.URL.createObjectURL(blob);\n",
              "      a.download = filename;\n",
              "      div.appendChild(a);\n",
              "      a.click();\n",
              "      div.remove();\n",
              "    }\n",
              "  "
            ]
          },
          "metadata": {}
        },
        {
          "output_type": "display_data",
          "data": {
            "text/plain": [
              "<IPython.core.display.Javascript object>"
            ],
            "application/javascript": [
              "download(\"download_28d81808-9b9e-4fc8-921a-e4e3ee3e10c9\", \"project1_model.pt\", 17546925)"
            ]
          },
          "metadata": {}
        }
      ],
      "source": [
        "from google.colab import files\n",
        "torch.save(ResNet18.state_dict(), 'project1_model.pt')\n",
        "\n",
        "# download checkpoint file\n",
        "files.download('project1_model.pt')"
      ]
    },
    {
      "cell_type": "code",
      "execution_count": 29,
      "metadata": {
        "colab": {
          "base_uri": "https://localhost:8080/"
        },
        "id": "1lfY_0p3hcmg",
        "outputId": "49d90464-3a72-49a0-d128-2557bd0935d6"
      },
      "outputs": [
        {
          "output_type": "execute_result",
          "data": {
            "text/plain": [
              "<All keys matched successfully>"
            ]
          },
          "metadata": {},
          "execution_count": 29
        }
      ],
      "source": [
        "# read model file\n",
        "device = torch.device('cuda:0' if torch.cuda.is_available() else 'cpu')\n",
        "model = ResNet18\n",
        "model_path = './project1_model.pt'\n",
        "model.load_state_dict(torch.load(model_path, map_location=device), strict=False)"
      ]
    },
    {
      "cell_type": "code",
      "source": [
        ""
      ],
      "metadata": {
        "id": "wARyq0T1Lh2_"
      },
      "execution_count": null,
      "outputs": []
    }
  ],
  "metadata": {
    "accelerator": "GPU",
    "colab": {
      "collapsed_sections": [],
      "name": "ResNet",
      "provenance": []
    },
    "kernelspec": {
      "display_name": "Python 3",
      "name": "python3"
    },
    "widgets": {
      "application/vnd.jupyter.widget-state+json": {
        "feb12978ebde474c8a50875b56932e40": {
          "model_module": "@jupyter-widgets/controls",
          "model_name": "HBoxModel",
          "model_module_version": "1.5.0",
          "state": {
            "_dom_classes": [],
            "_model_module": "@jupyter-widgets/controls",
            "_model_module_version": "1.5.0",
            "_model_name": "HBoxModel",
            "_view_count": null,
            "_view_module": "@jupyter-widgets/controls",
            "_view_module_version": "1.5.0",
            "_view_name": "HBoxView",
            "box_style": "",
            "children": [
              "IPY_MODEL_b4c60455f7044c63b6430c2df33546b1",
              "IPY_MODEL_e70cfe17afd84f33859baf6f6ce57ee0",
              "IPY_MODEL_88449be49c064728b177aeaa92772570"
            ],
            "layout": "IPY_MODEL_3bff44d793ed463e8dc34d072733f2e0"
          }
        },
        "b4c60455f7044c63b6430c2df33546b1": {
          "model_module": "@jupyter-widgets/controls",
          "model_name": "HTMLModel",
          "model_module_version": "1.5.0",
          "state": {
            "_dom_classes": [],
            "_model_module": "@jupyter-widgets/controls",
            "_model_module_version": "1.5.0",
            "_model_name": "HTMLModel",
            "_view_count": null,
            "_view_module": "@jupyter-widgets/controls",
            "_view_module_version": "1.5.0",
            "_view_name": "HTMLView",
            "description": "",
            "description_tooltip": null,
            "layout": "IPY_MODEL_02c9117af7bd47dd97ee5df4ab278408",
            "placeholder": "​",
            "style": "IPY_MODEL_f6e48ac5f32147938e0a2d9f1cf380ff",
            "value": ""
          }
        },
        "e70cfe17afd84f33859baf6f6ce57ee0": {
          "model_module": "@jupyter-widgets/controls",
          "model_name": "FloatProgressModel",
          "model_module_version": "1.5.0",
          "state": {
            "_dom_classes": [],
            "_model_module": "@jupyter-widgets/controls",
            "_model_module_version": "1.5.0",
            "_model_name": "FloatProgressModel",
            "_view_count": null,
            "_view_module": "@jupyter-widgets/controls",
            "_view_module_version": "1.5.0",
            "_view_name": "ProgressView",
            "bar_style": "success",
            "description": "",
            "description_tooltip": null,
            "layout": "IPY_MODEL_5a5a0ac67ec0433b890f934ec98ac63c",
            "max": 170498071,
            "min": 0,
            "orientation": "horizontal",
            "style": "IPY_MODEL_539730f742134a959117f0903483fc37",
            "value": 170498071
          }
        },
        "88449be49c064728b177aeaa92772570": {
          "model_module": "@jupyter-widgets/controls",
          "model_name": "HTMLModel",
          "model_module_version": "1.5.0",
          "state": {
            "_dom_classes": [],
            "_model_module": "@jupyter-widgets/controls",
            "_model_module_version": "1.5.0",
            "_model_name": "HTMLModel",
            "_view_count": null,
            "_view_module": "@jupyter-widgets/controls",
            "_view_module_version": "1.5.0",
            "_view_name": "HTMLView",
            "description": "",
            "description_tooltip": null,
            "layout": "IPY_MODEL_aa60e96f76b0435c8a8f6cd8507e2053",
            "placeholder": "​",
            "style": "IPY_MODEL_0d6099ae17eb43b49156469a57eb9187",
            "value": " 170499072/? [00:03&lt;00:00, 49492635.00it/s]"
          }
        },
        "3bff44d793ed463e8dc34d072733f2e0": {
          "model_module": "@jupyter-widgets/base",
          "model_name": "LayoutModel",
          "model_module_version": "1.2.0",
          "state": {
            "_model_module": "@jupyter-widgets/base",
            "_model_module_version": "1.2.0",
            "_model_name": "LayoutModel",
            "_view_count": null,
            "_view_module": "@jupyter-widgets/base",
            "_view_module_version": "1.2.0",
            "_view_name": "LayoutView",
            "align_content": null,
            "align_items": null,
            "align_self": null,
            "border": null,
            "bottom": null,
            "display": null,
            "flex": null,
            "flex_flow": null,
            "grid_area": null,
            "grid_auto_columns": null,
            "grid_auto_flow": null,
            "grid_auto_rows": null,
            "grid_column": null,
            "grid_gap": null,
            "grid_row": null,
            "grid_template_areas": null,
            "grid_template_columns": null,
            "grid_template_rows": null,
            "height": null,
            "justify_content": null,
            "justify_items": null,
            "left": null,
            "margin": null,
            "max_height": null,
            "max_width": null,
            "min_height": null,
            "min_width": null,
            "object_fit": null,
            "object_position": null,
            "order": null,
            "overflow": null,
            "overflow_x": null,
            "overflow_y": null,
            "padding": null,
            "right": null,
            "top": null,
            "visibility": null,
            "width": null
          }
        },
        "02c9117af7bd47dd97ee5df4ab278408": {
          "model_module": "@jupyter-widgets/base",
          "model_name": "LayoutModel",
          "model_module_version": "1.2.0",
          "state": {
            "_model_module": "@jupyter-widgets/base",
            "_model_module_version": "1.2.0",
            "_model_name": "LayoutModel",
            "_view_count": null,
            "_view_module": "@jupyter-widgets/base",
            "_view_module_version": "1.2.0",
            "_view_name": "LayoutView",
            "align_content": null,
            "align_items": null,
            "align_self": null,
            "border": null,
            "bottom": null,
            "display": null,
            "flex": null,
            "flex_flow": null,
            "grid_area": null,
            "grid_auto_columns": null,
            "grid_auto_flow": null,
            "grid_auto_rows": null,
            "grid_column": null,
            "grid_gap": null,
            "grid_row": null,
            "grid_template_areas": null,
            "grid_template_columns": null,
            "grid_template_rows": null,
            "height": null,
            "justify_content": null,
            "justify_items": null,
            "left": null,
            "margin": null,
            "max_height": null,
            "max_width": null,
            "min_height": null,
            "min_width": null,
            "object_fit": null,
            "object_position": null,
            "order": null,
            "overflow": null,
            "overflow_x": null,
            "overflow_y": null,
            "padding": null,
            "right": null,
            "top": null,
            "visibility": null,
            "width": null
          }
        },
        "f6e48ac5f32147938e0a2d9f1cf380ff": {
          "model_module": "@jupyter-widgets/controls",
          "model_name": "DescriptionStyleModel",
          "model_module_version": "1.5.0",
          "state": {
            "_model_module": "@jupyter-widgets/controls",
            "_model_module_version": "1.5.0",
            "_model_name": "DescriptionStyleModel",
            "_view_count": null,
            "_view_module": "@jupyter-widgets/base",
            "_view_module_version": "1.2.0",
            "_view_name": "StyleView",
            "description_width": ""
          }
        },
        "5a5a0ac67ec0433b890f934ec98ac63c": {
          "model_module": "@jupyter-widgets/base",
          "model_name": "LayoutModel",
          "model_module_version": "1.2.0",
          "state": {
            "_model_module": "@jupyter-widgets/base",
            "_model_module_version": "1.2.0",
            "_model_name": "LayoutModel",
            "_view_count": null,
            "_view_module": "@jupyter-widgets/base",
            "_view_module_version": "1.2.0",
            "_view_name": "LayoutView",
            "align_content": null,
            "align_items": null,
            "align_self": null,
            "border": null,
            "bottom": null,
            "display": null,
            "flex": null,
            "flex_flow": null,
            "grid_area": null,
            "grid_auto_columns": null,
            "grid_auto_flow": null,
            "grid_auto_rows": null,
            "grid_column": null,
            "grid_gap": null,
            "grid_row": null,
            "grid_template_areas": null,
            "grid_template_columns": null,
            "grid_template_rows": null,
            "height": null,
            "justify_content": null,
            "justify_items": null,
            "left": null,
            "margin": null,
            "max_height": null,
            "max_width": null,
            "min_height": null,
            "min_width": null,
            "object_fit": null,
            "object_position": null,
            "order": null,
            "overflow": null,
            "overflow_x": null,
            "overflow_y": null,
            "padding": null,
            "right": null,
            "top": null,
            "visibility": null,
            "width": null
          }
        },
        "539730f742134a959117f0903483fc37": {
          "model_module": "@jupyter-widgets/controls",
          "model_name": "ProgressStyleModel",
          "model_module_version": "1.5.0",
          "state": {
            "_model_module": "@jupyter-widgets/controls",
            "_model_module_version": "1.5.0",
            "_model_name": "ProgressStyleModel",
            "_view_count": null,
            "_view_module": "@jupyter-widgets/base",
            "_view_module_version": "1.2.0",
            "_view_name": "StyleView",
            "bar_color": null,
            "description_width": ""
          }
        },
        "aa60e96f76b0435c8a8f6cd8507e2053": {
          "model_module": "@jupyter-widgets/base",
          "model_name": "LayoutModel",
          "model_module_version": "1.2.0",
          "state": {
            "_model_module": "@jupyter-widgets/base",
            "_model_module_version": "1.2.0",
            "_model_name": "LayoutModel",
            "_view_count": null,
            "_view_module": "@jupyter-widgets/base",
            "_view_module_version": "1.2.0",
            "_view_name": "LayoutView",
            "align_content": null,
            "align_items": null,
            "align_self": null,
            "border": null,
            "bottom": null,
            "display": null,
            "flex": null,
            "flex_flow": null,
            "grid_area": null,
            "grid_auto_columns": null,
            "grid_auto_flow": null,
            "grid_auto_rows": null,
            "grid_column": null,
            "grid_gap": null,
            "grid_row": null,
            "grid_template_areas": null,
            "grid_template_columns": null,
            "grid_template_rows": null,
            "height": null,
            "justify_content": null,
            "justify_items": null,
            "left": null,
            "margin": null,
            "max_height": null,
            "max_width": null,
            "min_height": null,
            "min_width": null,
            "object_fit": null,
            "object_position": null,
            "order": null,
            "overflow": null,
            "overflow_x": null,
            "overflow_y": null,
            "padding": null,
            "right": null,
            "top": null,
            "visibility": null,
            "width": null
          }
        },
        "0d6099ae17eb43b49156469a57eb9187": {
          "model_module": "@jupyter-widgets/controls",
          "model_name": "DescriptionStyleModel",
          "model_module_version": "1.5.0",
          "state": {
            "_model_module": "@jupyter-widgets/controls",
            "_model_module_version": "1.5.0",
            "_model_name": "DescriptionStyleModel",
            "_view_count": null,
            "_view_module": "@jupyter-widgets/base",
            "_view_module_version": "1.2.0",
            "_view_name": "StyleView",
            "description_width": ""
          }
        }
      }
    }
  },
  "nbformat": 4,
  "nbformat_minor": 0
}